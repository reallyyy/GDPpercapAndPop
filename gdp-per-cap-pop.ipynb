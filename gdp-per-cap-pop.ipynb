{
 "cells": [
  {
   "cell_type": "code",
   "execution_count": 66,
   "metadata": {},
   "outputs": [],
   "source": [
    "import pandas as pd\n",
    "import numpy as np\n",
    "import matplotlib.pyplot as plt\n",
    "import seaborn as sns"
   ]
  },
  {
   "cell_type": "code",
   "execution_count": 10,
   "metadata": {},
   "outputs": [],
   "source": [
    "pop = pd.read_html(\"https://en.wikipedia.org/wiki/List_of_countries_and_dependencies_by_population\")[0]"
   ]
  },
  {
   "cell_type": "code",
   "execution_count": null,
   "metadata": {},
   "outputs": [],
   "source": [
    "pop.drop(columns=[\"Unnamed: 0\",\"Unnamed: 6\"],inplace=True)\n",
    "pop.reset_index(inplace=True)"
   ]
  },
  {
   "cell_type": "code",
   "execution_count": 14,
   "metadata": {},
   "outputs": [
    {
     "data": {
      "text/html": [
       "<div>\n",
       "<style scoped>\n",
       "    .dataframe tbody tr th:only-of-type {\n",
       "        vertical-align: middle;\n",
       "    }\n",
       "\n",
       "    .dataframe tbody tr th {\n",
       "        vertical-align: top;\n",
       "    }\n",
       "\n",
       "    .dataframe thead th {\n",
       "        text-align: right;\n",
       "    }\n",
       "</style>\n",
       "<table border=\"1\" class=\"dataframe\">\n",
       "  <thead>\n",
       "    <tr style=\"text-align: right;\">\n",
       "      <th></th>\n",
       "      <th>Country / Dependency</th>\n",
       "      <th>Population</th>\n",
       "      <th>% of world</th>\n",
       "      <th>Date</th>\n",
       "      <th>Source (official or from the United Nations)</th>\n",
       "    </tr>\n",
       "  </thead>\n",
       "  <tbody>\n",
       "    <tr>\n",
       "      <th>0</th>\n",
       "      <td>World</td>\n",
       "      <td>8074600000</td>\n",
       "      <td>100%</td>\n",
       "      <td>30 Nov 2023</td>\n",
       "      <td>UN projection[3]</td>\n",
       "    </tr>\n",
       "    <tr>\n",
       "      <th>1</th>\n",
       "      <td>China</td>\n",
       "      <td>1411750000</td>\n",
       "      <td>17.5%</td>\n",
       "      <td>31 Dec 2022</td>\n",
       "      <td>Official estimate[4]</td>\n",
       "    </tr>\n",
       "    <tr>\n",
       "      <th>2</th>\n",
       "      <td>India</td>\n",
       "      <td>1392329000</td>\n",
       "      <td>17.2%</td>\n",
       "      <td>1 Mar 2023</td>\n",
       "      <td>Official projection[5]</td>\n",
       "    </tr>\n",
       "    <tr>\n",
       "      <th>3</th>\n",
       "      <td>United States</td>\n",
       "      <td>334233854</td>\n",
       "      <td>4.1%</td>\n",
       "      <td>1 Jan 2023</td>\n",
       "      <td>Official estimate[7]</td>\n",
       "    </tr>\n",
       "    <tr>\n",
       "      <th>4</th>\n",
       "      <td>Indonesia</td>\n",
       "      <td>279118866</td>\n",
       "      <td>3.5%</td>\n",
       "      <td>1 Jul 2023</td>\n",
       "      <td>National annual projection[8]</td>\n",
       "    </tr>\n",
       "  </tbody>\n",
       "</table>\n",
       "</div>"
      ],
      "text/plain": [
       "  Country / Dependency  Population % of world         Date  \\\n",
       "0                World  8074600000       100%  30 Nov 2023   \n",
       "1                China  1411750000      17.5%  31 Dec 2022   \n",
       "2                India  1392329000      17.2%   1 Mar 2023   \n",
       "3        United States   334233854       4.1%   1 Jan 2023   \n",
       "4            Indonesia   279118866       3.5%   1 Jul 2023   \n",
       "\n",
       "  Source (official or from the United Nations)  \n",
       "0                             UN projection[3]  \n",
       "1                         Official estimate[4]  \n",
       "2                       Official projection[5]  \n",
       "3                         Official estimate[7]  \n",
       "4                National annual projection[8]  "
      ]
     },
     "execution_count": 14,
     "metadata": {},
     "output_type": "execute_result"
    }
   ],
   "source": [
    "pop.head(5)"
   ]
  },
  {
   "cell_type": "code",
   "execution_count": 23,
   "metadata": {},
   "outputs": [],
   "source": [
    "gdp = pd.read_html(\"https://en.wikipedia.org/wiki/List_of_countries_by_GDP_(nominal)_per_capita\")[1]"
   ]
  },
  {
   "cell_type": "code",
   "execution_count": 24,
   "metadata": {},
   "outputs": [],
   "source": [
    "gdp.drop(columns=[            (        'IMF[4][5]',          'Estimate'),\n",
    "            (        'IMF[4][5]',              'Year'),],inplace=True)"
   ]
  },
  {
   "cell_type": "code",
   "execution_count": 47,
   "metadata": {},
   "outputs": [
    {
     "data": {
      "text/plain": [
       "MultiIndex([('Country/Territory', 'Country/Territory'),\n",
       "            (        'UN Region',         'UN Region'),\n",
       "            (    'World Bank[6]',          'Estimate'),\n",
       "            (    'World Bank[6]',              'Year'),\n",
       "            ('United Nations[7]',          'Estimate'),\n",
       "            ('United Nations[7]',              'Year')],\n",
       "           )"
      ]
     },
     "execution_count": 47,
     "metadata": {},
     "output_type": "execute_result"
    }
   ],
   "source": [
    "gdp.columns"
   ]
  },
  {
   "cell_type": "code",
   "execution_count": 60,
   "metadata": {},
   "outputs": [],
   "source": [
    "gdpun  = pd.DataFrame(np.array(gdp[[('Country/Territory', 'Country/Territory'),\n",
    "            (    'World Bank[6]',          'Estimate')]]))"
   ]
  },
  {
   "cell_type": "code",
   "execution_count": 62,
   "metadata": {},
   "outputs": [
    {
     "data": {
      "text/plain": [
       "0         NaN\n",
       "1      234317\n",
       "2      184083\n",
       "3      126426\n",
       "4      118846\n",
       "        ...  \n",
       "219       505\n",
       "220      1072\n",
       "221       461\n",
       "222       364\n",
       "223       238\n",
       "Name: 1, Length: 224, dtype: object"
      ]
     },
     "execution_count": 62,
     "metadata": {},
     "output_type": "execute_result"
    }
   ],
   "source": [
    "gdpun[1]"
   ]
  },
  {
   "cell_type": "code",
   "execution_count": 113,
   "metadata": {},
   "outputs": [],
   "source": [
    "finalData = pop.merge(gdpun, how='inner', left_on=\"Country / Dependency\", right_on=0)\n",
    "def toInt(x):\n",
    "    try:\n",
    "        return int(x)\n",
    "    except:\n",
    "        return None\n",
    "finalData[1] = finalData[1].apply(lambda x: toInt(x))\n",
    "finalData[\"Population\"] = finalData[\"Population\"].apply(lambda x: toInt(x))"
   ]
  },
  {
   "cell_type": "code",
   "execution_count": 114,
   "metadata": {},
   "outputs": [],
   "source": [
    "finalData = finalData[finalData[\"Population\"]<=7000000]"
   ]
  },
  {
   "cell_type": "code",
   "execution_count": 162,
   "metadata": {},
   "outputs": [
    {
     "data": {
      "text/html": [
       "<div>\n",
       "<style scoped>\n",
       "    .dataframe tbody tr th:only-of-type {\n",
       "        vertical-align: middle;\n",
       "    }\n",
       "\n",
       "    .dataframe tbody tr th {\n",
       "        vertical-align: top;\n",
       "    }\n",
       "\n",
       "    .dataframe thead th {\n",
       "        text-align: right;\n",
       "    }\n",
       "</style>\n",
       "<table border=\"1\" class=\"dataframe\">\n",
       "  <thead>\n",
       "    <tr style=\"text-align: right;\">\n",
       "      <th></th>\n",
       "      <th>Country / Dependency</th>\n",
       "      <th>Population</th>\n",
       "      <th>% of world</th>\n",
       "      <th>Date</th>\n",
       "      <th>Source (official or from the United Nations)</th>\n",
       "      <th>0</th>\n",
       "      <th>1</th>\n",
       "    </tr>\n",
       "  </thead>\n",
       "  <tbody>\n",
       "    <tr>\n",
       "      <th>114</th>\n",
       "      <td>Singapore</td>\n",
       "      <td>5917600</td>\n",
       "      <td>0.07%</td>\n",
       "      <td>30 Jun 2023</td>\n",
       "      <td>Official estimate[117]</td>\n",
       "      <td>Singapore</td>\n",
       "      <td>82808.0</td>\n",
       "    </tr>\n",
       "  </tbody>\n",
       "</table>\n",
       "</div>"
      ],
      "text/plain": [
       "    Country / Dependency  Population % of world         Date  \\\n",
       "114            Singapore     5917600      0.07%  30 Jun 2023   \n",
       "\n",
       "    Source (official or from the United Nations)          0        1  \n",
       "114                       Official estimate[117]  Singapore  82808.0  "
      ]
     },
     "execution_count": 162,
     "metadata": {},
     "output_type": "execute_result"
    }
   ],
   "source": [
    "finalData[finalData[\"Country / Dependency\"]==\"Singapore\"]"
   ]
  },
  {
   "cell_type": "code",
   "execution_count": 172,
   "metadata": {},
   "outputs": [
    {
     "data": {
      "text/plain": [
       "Text(0, 0.5, 'GDP per capita by UN data')"
      ]
     },
     "execution_count": 172,
     "metadata": {},
     "output_type": "execute_result"
    },
    {
     "data": {
      "image/png": "[encoded data removed]",
      "text/plain": [
       "<Figure size 640x480 with 1 Axes>"
      ]
     },
     "metadata": {},
     "output_type": "display_data"
    }
   ],
   "source": [
    "# f, axs = plt.subplots(1, 2, figsize=(10, 6), gridspec_kw=dict(width_ratios=[4, 3]))\n",
    "plt.figsize=(10, 6)\n",
    "ax = sns.scatterplot(data=finalData,x=\"Population\",y=1)\n",
    "ax.get_xaxis().get_major_formatter().set_scientific(False)\n",
    "plt.text(5917600,83000,\"Singapore\") \n",
    "plt.ylabel(\"GDP per capita by UN data\")\n",
    "# plt.xticks(np.arange(0, 7000000, step=1000000))  "
   ]
  }
 ],
 "metadata": {
  "kernelspec": {
   "display_name": "Python 3",
   "language": "python",
   "name": "python3"
  },
  "language_info": {
   "codemirror_mode": {
    "name": "ipython",
    "version": 3
   },
   "file_extension": ".py",
   "mimetype": "text/x-python",
   "name": "python",
   "nbconvert_exporter": "python",
   "pygments_lexer": "ipython3",
   "version": "3.11.6"
  }
 },
 "nbformat": 4,
 "nbformat_minor": 2
}
